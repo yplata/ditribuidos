{
  "cells": [
    {
      "cell_type": "markdown",
      "metadata": {
        "id": "view-in-github",
        "colab_type": "text"
      },
      "source": [
        "<a href=\"https://colab.research.google.com/github/yplata/ditribuidos/blob/master/scratchpad.ipynb\" target=\"_parent\"><img src=\"https://colab.research.google.com/assets/colab-badge.svg\" alt=\"Open In Colab\"/></a>"
      ]
    },
    {
      "cell_type": "code",
      "execution_count": null,
      "metadata": {
        "id": "lIYdn1woOS1n"
      },
      "outputs": [],
      "source": []
    },
    {
      "cell_type": "code",
      "source": [
        "def mostrar_menu():\n",
        "    print(\"---- Calculadora ----\")\n",
        "    print(\"1. Suma\")\n",
        "    print(\"2. Resta\")\n",
        "    print(\"3. Multiplicación\")\n",
        "    print(\"4. División\")\n",
        "    print(\"5. Salir\")\n",
        "\n",
        "def suma():\n",
        "    num1 = float(input(\"Ingrese el primer número: \"))\n",
        "    num2 = float(input(\"Ingrese el segundo número: \"))\n",
        "    resultado = num1 + num2\n",
        "    print(\"El resultado de la suma es:\", resultado)\n",
        "\n",
        "def resta():\n",
        "    num1 = float(input(\"Ingrese el primer número: \"))\n",
        "    num2 = float(input(\"Ingrese el segundo número: \"))\n",
        "    resultado = num1 - num2\n",
        "    print(\"El resultado de la resta es:\", resultado)\n",
        "\n",
        "def multiplicacion():\n",
        "    num1 = float(input(\"Ingrese el primer número: \"))\n",
        "    num2 = float(input(\"Ingrese el segundo número: \"))\n",
        "    resultado = num1 * num2\n",
        "    print(\"El resultado de la multiplicación es:\", resultado)\n",
        "\n",
        "def division():\n",
        "    num1 = float(input(\"Ingrese el numerador: \"))\n",
        "    num2 = float(input(\"Ingrese el denominador: \"))\n",
        "    if num2 != 0:\n",
        "        resultado = num1 / num2\n",
        "        print(\"El resultado de la división es:\", resultado)\n",
        "    else:\n",
        "        print(\"No se puede dividir entre cero.\")\n",
        "\n",
        "mostrar_menu()\n",
        "\n",
        "while True:\n",
        "    opcion = input(\"Ingrese una opción: \")\n",
        "    if opcion == \"1\":\n",
        "        suma()\n",
        "    elif opcion == \"2\":\n",
        "        resta()\n",
        "    elif opcion == \"3\":\n",
        "        multiplicacion()\n",
        "    elif opcion == \"4\":\n",
        "        division()\n",
        "    elif opcion == \"5\":\n",
        "        print(\"¡Hasta luego!\")\n",
        "        break\n",
        "    else:\n",
        "        print(\"Opción inválida. Por favor, ingrese una opción válida.\")\n"
      ],
      "metadata": {
        "id": "BQTcPdioS7Fc"
      },
      "execution_count": null,
      "outputs": []
    }
  ],
  "metadata": {
    "colab": {
      "name": "scratchpad",
      "provenance": [],
      "include_colab_link": true
    },
    "kernelspec": {
      "display_name": "Python 3",
      "name": "python3"
    }
  },
  "nbformat": 4,
  "nbformat_minor": 0
}